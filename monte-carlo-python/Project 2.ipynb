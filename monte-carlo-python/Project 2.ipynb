{
 "cells": [
  {
   "cell_type": "code",
   "execution_count": 1,
   "metadata": {},
   "outputs": [],
   "source": [
    "import numpy as np\n",
    "import scipy.stats as ss\n",
    "from scipy.stats import norm\n",
    "import matplotlib.pyplot as plt\n",
    "import matplotlib.gridspec as gridspec\n",
    "\n",
    "%matplotlib inline\n",
    "\n",
    "from scipy import sparse\n",
    "from scipy.sparse.linalg import splu\n",
    "from scipy.sparse.linalg import spsolve"
   ]
  },
  {
   "cell_type": "code",
   "execution_count": 2,
   "metadata": {},
   "outputs": [],
   "source": [
    "def implicit_fin_diff(S,K,T,sigma,r,N,Nj,CallPut):\n",
    "    '''\n",
    "    Implicit finite difference method for pricing European call and put options\n",
    "        \n",
    "    Args:\n",
    "        S - intial price of underlying asset\n",
    "        K - strike price\n",
    "        T - time to maturity\n",
    "        sigma - volatility\n",
    "        r - risk-free rate\n",
    "        \n",
    "        N - number of time intervals (horizontal)\n",
    "        Nj - number of partition points from 0 to the upper/lower boundary (vertical)\n",
    "        CallPut - 'Call' or 'Put'\n",
    "        \n",
    "    Returns the option price estimated by the finite difference grid    \n",
    "    \n",
    "    '''\n",
    "    dt = T/N;    #dx = sigma*np.sqrt(3*dt)\n",
    "    Smax= 100\n",
    "    dx = Smax/Nj\n",
    "    nu = r - 0.5*sigma**2\n",
    "    pu = -0.5*dt*((sigma/dx)**2 + nu/dx);   pm = 1.0 + dt*(sigma/dx)**2 + r*dt;    pd = -0.5*dt*((sigma/dx)**2 - nu/dx)\n",
    "    grid = np.zeros(2*Nj+1)\n",
    "    \n",
    "    # Asset prices at maturity:\n",
    "    St = [S*np.exp(-Nj*dx)]\n",
    "    for j in range(1, 2*Nj+1):\n",
    "        St.append(St[j-1]*np.exp(dx))\n",
    "    \n",
    "    # Option value at maturity:\n",
    "    for j in range(2*Nj+1):\n",
    "        if CallPut == 'Call':\n",
    "            grid[j] = max(0, St[j] - K)\n",
    "        elif CallPut == 'Put':\n",
    "            grid[j] = max(0, K - St[j])\n",
    "        # Boundary Conditions:\n",
    "    if CallPut == 'Call':\n",
    "        lambdaU = St[2*Nj] - St[2*Nj-1];    lambdaL = 0.0;\n",
    "    elif CallPut == 'Put':\n",
    "        lambdaU = 0.0;  lambdaL = -1.0*(St[1] - St[0])\n",
    "    \n",
    "    # Backwards computing through grid\n",
    "    def tridiagonal(C,pU,pM,pD,lambda_L,lambda_U,nj):\n",
    "        '''\n",
    "        Helper function for solving the tridiagonal matrix system specified by the \n",
    "        implicit finite difference method\n",
    "        '''\n",
    "        C1 = np.zeros(2*nj+1)     \n",
    "        pmp = [pM+pD]\n",
    "        pp = [C[1]+pD*lambda_L]\n",
    "        for j in range(2,2*nj):\n",
    "            pmp.append(pM - pU*pD/pmp[j-2])\n",
    "            pp.append(C[j] - pp[j-2]*pD/pmp[j-2])\n",
    "        C1[2*nj] = (pp[len(pp)-1] + pmp[len(pmp)-1]*lambda_U)/(pU + pmp[len(pmp)-1])\n",
    "        C1[2*nj-1] = C1[2*nj] - lambda_U\n",
    "        for j in range(2*nj-2, -1, -1):\n",
    "            C1[j] = (pp[j-1] - pU*C1[j+1])/pmp[j-1]\n",
    "        C1[0] = C1[1] - lambda_L\n",
    "        return C1\n",
    "    \n",
    "    for i in range(N):  \n",
    "        grid = tridiagonal(grid,pu,pm,pd,lambdaL,lambdaU,Nj)\n",
    "    \n",
    "    return grid[Nj]        "
   ]
  },
  {
   "cell_type": "code",
   "execution_count": 3,
   "metadata": {},
   "outputs": [
    {
     "data": {
      "text/plain": [
       "2.4483184375057845"
      ]
     },
     "execution_count": 3,
     "metadata": {},
     "output_type": "execute_result"
    }
   ],
   "source": [
    "EuropeanPut = implicit_fin_diff(40,40,1,0.3,0.1,400,400,'Put')\n",
    "EuropeanPut"
   ]
  },
  {
   "cell_type": "code",
   "execution_count": 4,
   "metadata": {},
   "outputs": [
    {
     "data": {
      "text/plain": [
       "2.8871501543930442"
      ]
     },
     "execution_count": 4,
     "metadata": {},
     "output_type": "execute_result"
    }
   ],
   "source": [
    "N = norm.cdf\n",
    "def BS_PUT(S, K, T, r, sigma):\n",
    "    d1 = (np.log(S/K) + (r + sigma**2/2)*T) / (sigma*np.sqrt(T))\n",
    "    d2 = d1 - sigma* np.sqrt(T)\n",
    "    return K*np.exp(-r*T)*N(-d2) - S*N(-d1)\n",
    "PutOprice = BS_PUT(40, 40, 1, 0.1, 0.3)\n",
    "PutOprice"
   ]
  },
  {
   "cell_type": "code",
   "execution_count": 5,
   "metadata": {},
   "outputs": [
    {
     "data": {
      "text/plain": [
       "2.8870516949438585"
      ]
     },
     "execution_count": 5,
     "metadata": {},
     "output_type": "execute_result"
    }
   ],
   "source": [
    "EuropeanPut = implicit_fin_diff(40,40,1,0.3,0.1,15000,30000,'Put')\n",
    "EuropeanPut"
   ]
  },
  {
   "cell_type": "code",
   "execution_count": 6,
   "metadata": {},
   "outputs": [],
   "source": [
    "S0 = 40.0  # spot stock price\n",
    "K = 40.0  # strike\n",
    "T = 1.0  # maturity\n",
    "r = 0.1  # risk free rate\n",
    "sig = 0.3  # diffusion coefficient or volatility\n",
    "X0 = np.log(S0)  # logprice\n",
    "B = 30  # Barrier 1\n"
   ]
  },
  {
   "cell_type": "code",
   "execution_count": 7,
   "metadata": {
    "scrolled": true
   },
   "outputs": [
    {
     "name": "stdout",
     "output_type": "stream",
     "text": [
      "The price of the Down and Out Put option by PDE is:  0.5888346955319073\n"
     ]
    }
   ],
   "source": [
    "Nspace = 400  # M space steps\n",
    "Ntime = 400  # N time steps\n",
    "S_max = 100  # The max of S corresponds to the maximum boundary condition\n",
    "S_min = 30 # The min of S corresponds to the Barrier which corresponds to minimum boundary condition\n",
    "\n",
    "x_max = np.log(S_max)  # A2\n",
    "x_min = np.log(S_min)  # A1\n",
    "\n",
    "x, dx = np.linspace(x_min, x_max, Nspace, retstep=True)  # space discretization\n",
    "T_array, dt = np.linspace(0, T, Ntime, retstep=True)  # time discretization\n",
    "Payoff = np.maximum(K - np.exp(x), 0)  # Put Payoff\n",
    "\n",
    "V = np.zeros((Nspace, Ntime))  # grid initialization\n",
    "offset = np.zeros(Nspace - 2)  # vector to be used for the boundary terms\n",
    "\n",
    "V[:, -1] = Payoff  # terminal conditions\n",
    "V[-1, :] = 0  # boundary condition\n",
    "V[0, :] = 0  # boundary condition\n",
    "\n",
    "# construction of the tri-diagonal matrix D\n",
    "sig2 = sig * sig\n",
    "dxx = dx * dx\n",
    "a = (dt / 2) * ((r - 0.5 * sig2) / dx - sig2 / dxx)\n",
    "b = 1 + dt * (sig2 / dxx + r)\n",
    "c = -(dt / 2) * ((r - 0.5 * sig2) / dx + sig2 / dxx)\n",
    "D = sparse.diags([a, b, c], [-1, 0, 1], shape=(Nspace - 2, Nspace - 2)).tocsc()\n",
    "DD = splu(D)\n",
    "\n",
    "# Backward iteration\n",
    "for i in range(Ntime - 2, -1, -1):\n",
    "    offset[0] = a * V[0, i]\n",
    "    offset[-1] = c * V[-1, i]\n",
    "    V[1:-1, i] = DD.solve(V[1:-1, i + 1] - offset)\n",
    "\n",
    "# finds the option at S0\n",
    "oPrice = np.interp(X0, x, V[:, 0])\n",
    "print(\"The price of the Down and Out Put option by PDE is: \", oPrice)"
   ]
  },
  {
   "cell_type": "code",
   "execution_count": null,
   "metadata": {},
   "outputs": [],
   "source": [
    "\n"
   ]
  }
 ],
 "metadata": {
  "kernel_info": {
   "name": "python3"
  },
  "kernelspec": {
   "display_name": "Python 3 (ipykernel)",
   "language": "python",
   "name": "python3"
  },
  "language_info": {
   "codemirror_mode": {
    "name": "ipython",
    "version": 3
   },
   "file_extension": ".py",
   "mimetype": "text/x-python",
   "name": "python",
   "nbconvert_exporter": "python",
   "pygments_lexer": "ipython3",
   "version": "3.9.17"
  },
  "nteract": {
   "version": "0.28.0"
  }
 },
 "nbformat": 4,
 "nbformat_minor": 4
}
